{
 "cells": [
  {
   "cell_type": "markdown",
   "metadata": {},
   "source": [
    "### 安裝mysql套件"
   ]
  },
  {
   "cell_type": "code",
   "execution_count": null,
   "metadata": {},
   "outputs": [
    {
     "name": "stdout",
     "output_type": "stream",
     "text": [
      "Requirement already satisfied: pymysql in c:\\users\\user\\anaconda3\\lib\\site-packages (1.1.1)\n",
      "Note: you may need to restart the kernel to use updated packages.\n"
     ]
    }
   ],
   "source": [
    "#pip install pymysql"
   ]
  },
  {
   "cell_type": "code",
   "execution_count": 4,
   "metadata": {},
   "outputs": [
    {
     "data": {
      "text/plain": [
       "'1.4.6'"
      ]
     },
     "execution_count": 4,
     "metadata": {},
     "output_type": "execute_result"
    }
   ],
   "source": [
    "import pymysql\n",
    "pymysql.__version__"
   ]
  },
  {
   "cell_type": "markdown",
   "metadata": {},
   "source": [
    "### 連接mysql"
   ]
  },
  {
   "cell_type": "code",
   "execution_count": 24,
   "metadata": {},
   "outputs": [
    {
     "data": {
      "text/plain": [
       "<pymysql.connections.Connection at 0x19f0a596dd0>"
      ]
     },
     "execution_count": 24,
     "metadata": {},
     "output_type": "execute_result"
    }
   ],
   "source": [
    "connect=pymysql.connect(\n",
    "user=\"root\",\n",
    "password=\"LIsy758eKell$\",\n",
    "host=\"127.0.0.1\", #localhost\n",
    "database=\"shop\",\n",
    "port=3306\n",
    ")\n",
    "\n",
    "connect"
   ]
  },
  {
   "cell_type": "code",
   "execution_count": 25,
   "metadata": {},
   "outputs": [
    {
     "data": {
      "text/plain": [
       "<pymysql.cursors.Cursor at 0x19f0a57b8d0>"
      ]
     },
     "execution_count": 25,
     "metadata": {},
     "output_type": "execute_result"
    }
   ],
   "source": [
    "cursor=connect.cursor()\n",
    "cursor"
   ]
  },
  {
   "cell_type": "markdown",
   "metadata": {},
   "source": [
    "### 查詢語法\n",
    "\n",
    "- select from tablename"
   ]
  },
  {
   "cell_type": "code",
   "execution_count": 56,
   "metadata": {},
   "outputs": [
    {
     "data": {
      "text/plain": [
       "(1, 'conquerkwu@hotmail.com', '0933256199', '桃園市中壢區七合一街95之5號10樓')"
      ]
     },
     "execution_count": 56,
     "metadata": {},
     "output_type": "execute_result"
    }
   ],
   "source": [
    "sqlstr=\"select id, email,phone,address from user;\"\n",
    "cursor.execute(sqlstr)\n",
    "#users=cursor.fetchmany(3)\n",
    "users=cursor.fetchone()\n",
    "users"
   ]
  },
  {
   "cell_type": "markdown",
   "metadata": {},
   "source": [
    "### 插入語法"
   ]
  },
  {
   "cell_type": "code",
   "execution_count": 42,
   "metadata": {},
   "outputs": [
    {
     "data": {
      "text/plain": [
       "\"insert into user (username,email,password,phone,address)      values('','','','','');\""
      ]
     },
     "execution_count": 42,
     "metadata": {},
     "output_type": "execute_result"
    }
   ],
   "source": [
    "username=input(\"姓名:\")\n",
    "email=input(\"Email:\")\n",
    "password=input(\"密碼:\")\n",
    "phone=input(\"手機號碼:\")\n",
    "address=input(\"地址:\")\n",
    "\n",
    "sqlstr=f\"insert into user (username,email,password,phone,address)\\\n",
    "      values('{username}','{email}','{password}','{phone}','{address}');\"\n",
    "\n",
    "sqlstr"
   ]
  },
  {
   "cell_type": "code",
   "execution_count": 8,
   "metadata": {},
   "outputs": [
    {
     "name": "stdout",
     "output_type": "stream",
     "text": [
      "寫入失敗 name 'sqlstr' is not defined\n"
     ]
    }
   ],
   "source": [
    "try:\n",
    "    cursor.execute(sqlstr)\n",
    "    connect.commit()\n",
    "except Exception as e:\n",
    "    print(\"寫入失敗\",e)    "
   ]
  },
  {
   "cell_type": "markdown",
   "metadata": {},
   "source": [
    "進入登入"
   ]
  },
  {
   "cell_type": "code",
   "execution_count": 52,
   "metadata": {},
   "outputs": [
    {
     "data": {
      "text/plain": [
       "\"select * from user where email='' and password=''\""
      ]
     },
     "execution_count": 52,
     "metadata": {},
     "output_type": "execute_result"
    }
   ],
   "source": [
    "email=input(\"Email:\")\n",
    "password=input(\"密碼:\")\n",
    "\n",
    "sqlstr=f\"select * from user where email='{email}' and password='{password}'\"\n",
    "sqlstr\n"
   ]
  },
  {
   "cell_type": "code",
   "execution_count": 10,
   "metadata": {},
   "outputs": [
    {
     "data": {
      "text/plain": [
       "(1,\n",
       " 'macbook air 2023 pro',\n",
       " 35000.0,\n",
       " 3,\n",
       " '256ssd 16g\\r\\n\\r\\n',\n",
       " datetime.date(2025, 3, 20))"
      ]
     },
     "execution_count": 10,
     "metadata": {},
     "output_type": "execute_result"
    }
   ],
   "source": [
    "cursor.execute(sqlstr)\n",
    "user=cursor.fetchone()\n",
    "user"
   ]
  },
  {
   "cell_type": "code",
   "execution_count": 11,
   "metadata": {},
   "outputs": [
    {
     "name": "stdout",
     "output_type": "stream",
     "text": [
      "登入成功!\n"
     ]
    }
   ],
   "source": [
    "if user is not None:\n",
    "    print(\"登入成功!\")\n",
    "else:\n",
    "    print(\"登入失敗!\")"
   ]
  },
  {
   "cell_type": "markdown",
   "metadata": {},
   "source": [
    "建立商品資料表(item)\n",
    "- id     - int(AI)\n",
    "- name   - varchar(100) - unique\n",
    "- price  - float        \n",
    "- qty    - int          - default:1\n",
    "- info   - text         - 可以為空"
   ]
  },
  {
   "cell_type": "code",
   "execution_count": 21,
   "metadata": {},
   "outputs": [
    {
     "data": {
      "text/plain": [
       "((1,\n",
       "  'macbook air 2023 pro',\n",
       "  35000.0,\n",
       "  2,\n",
       "  '256ssd 16g\\r\\n\\r\\n',\n",
       "  datetime.date(2025, 3, 20)),\n",
       " (2,\n",
       "  'asus zenbook 14\" notebook',\n",
       "  24900.0,\n",
       "  0,\n",
       "  '華碩筆電',\n",
       "  datetime.date(2025, 3, 20)),\n",
       " (3, 'asus po-行動電源', 699.0, 8, '25W', datetime.date(2025, 3, 20)),\n",
       " (4, 'Samsung A55手機', 12900.0, 3, '紅色限量', datetime.date(2025, 3, 20)),\n",
       " (5, 'iphone 16pro手機', 36000.0, 3, '白色限量', datetime.date(2025, 3, 20)))"
      ]
     },
     "execution_count": 21,
     "metadata": {},
     "output_type": "execute_result"
    }
   ],
   "source": [
    "# 只需要重新登入上面程式 但不要用客戶資料 因為這個要產品資料\n",
    "def update_item():\n",
    "\n",
    "    sqlstr=\"select * from item;\"\n",
    "    cursor.execute(sqlstr)\n",
    "    items=cursor.fetchall()\n",
    "    return items\n",
    "   \n",
    "update_item()"
   ]
  },
  {
   "cell_type": "code",
   "execution_count": 23,
   "metadata": {},
   "outputs": [],
   "source": [
    "#connect 關閉客戶 才可以跑產品資料\n",
    "connect.close()"
   ]
  },
  {
   "cell_type": "code",
   "execution_count": 28,
   "metadata": {},
   "outputs": [
    {
     "name": "stdout",
     "output_type": "stream",
     "text": [
      "----------------------------------------------------------------------------------------------------\n",
      "1.商品名稱:macbook air 2023 pro 價格:35000.0 數量:2 備註:256ssd 16g\n",
      "\n",
      "\n",
      "2.商品名稱:asus zenbook 14\" notebook 價格:24900.0 數量:0 備註:華碩筆電\n",
      "3.商品名稱:asus po-行動電源 價格:699.0 數量:8 備註:25W\n",
      "4.商品名稱:Samsung A55手機 價格:12900.0 數量:3 備註:紅色限量\n",
      "5.商品名稱:iphone 16pro手機 價格:36000.0 數量:3 備註:白色限量\n",
      "----------------------------------------------------------------------------------------------------\n",
      "update item set qty=1 where id=1;\n",
      "===>macbook air 2023 pro 加入購物車\n",
      "----------------------------------------------------------------------------------------------------\n",
      "1.商品名稱:macbook air 2023 pro 價格:35000.0 數量:1 備註:256ssd 16g\n",
      "\n",
      "\n",
      "2.商品名稱:asus zenbook 14\" notebook 價格:24900.0 數量:0 備註:華碩筆電\n",
      "3.商品名稱:asus po-行動電源 價格:699.0 數量:8 備註:25W\n",
      "4.商品名稱:Samsung A55手機 價格:12900.0 數量:3 備註:紅色限量\n",
      "5.商品名稱:iphone 16pro手機 價格:36000.0 數量:3 備註:白色限量\n",
      "----------------------------------------------------------------------------------------------------\n",
      "update item set qty=7 where id=3;\n",
      "===>asus po-行動電源 加入購物車\n",
      "----------------------------------------------------------------------------------------------------\n",
      "1.商品名稱:macbook air 2023 pro 價格:35000.0 數量:1 備註:256ssd 16g\n",
      "\n",
      "\n",
      "2.商品名稱:asus zenbook 14\" notebook 價格:24900.0 數量:0 備註:華碩筆電\n",
      "3.商品名稱:asus po-行動電源 價格:699.0 數量:7 備註:25W\n",
      "4.商品名稱:Samsung A55手機 價格:12900.0 數量:3 備註:紅色限量\n",
      "5.商品名稱:iphone 16pro手機 價格:36000.0 數量:3 備註:白色限量\n",
      "----------------------------------------------------------------------------------------------------\n",
      "update item set qty=6 where id=3;\n",
      "===>asus po-行動電源 加入購物車\n",
      "----------------------------------------------------------------------------------------------------\n",
      "1.商品名稱:macbook air 2023 pro 價格:35000.0 數量:1 備註:256ssd 16g\n",
      "\n",
      "\n",
      "2.商品名稱:asus zenbook 14\" notebook 價格:24900.0 數量:0 備註:華碩筆電\n",
      "3.商品名稱:asus po-行動電源 價格:699.0 數量:6 備註:25W\n",
      "4.商品名稱:Samsung A55手機 價格:12900.0 數量:3 備註:紅色限量\n",
      "5.商品名稱:iphone 16pro手機 價格:36000.0 數量:3 備註:白色限量\n",
      "----------------------------------------------------------------------------------------------------\n",
      "update item set qty=2 where id=4;\n",
      "===>Samsung A55手機 加入購物車\n",
      "----------------------------------------------------------------------------------------------------\n",
      "1.商品名稱:macbook air 2023 pro 價格:35000.0 數量:1 備註:256ssd 16g\n",
      "\n",
      "\n",
      "2.商品名稱:asus zenbook 14\" notebook 價格:24900.0 數量:0 備註:華碩筆電\n",
      "3.商品名稱:asus po-行動電源 價格:699.0 數量:6 備註:25W\n",
      "4.商品名稱:Samsung A55手機 價格:12900.0 數量:2 備註:紅色限量\n",
      "5.商品名稱:iphone 16pro手機 價格:36000.0 數量:3 備註:白色限量\n",
      "----------------------------------------------------------------------------------------------------\n",
      "完成購買\n",
      "[(1, 'macbook air 2023 pro', 35000.0, 2, '256ssd 16g\\r\\n\\r\\n', datetime.date(2025, 3, 20)), (3, 'asus po-行動電源', 699.0, 8, '25W', datetime.date(2025, 3, 20)), (3, 'asus po-行動電源', 699.0, 7, '25W', datetime.date(2025, 3, 20)), (4, 'Samsung A55手機', 12900.0, 3, '紅色限量', datetime.date(2025, 3, 20))]\n"
     ]
    }
   ],
   "source": [
    "cart=[]\n",
    "\n",
    "while True:\n",
    "    # 同步更新最新產品\n",
    "    items=update_item()\n",
    "    # 選單\n",
    "    print(\"-\"*100)\n",
    "    for i,item in enumerate(items):\n",
    "        print(f\"{i+1}.商品名稱:{item[1]} 價格:{item[2]} 數量:{item[3]} 備註:{item[4]}\")\n",
    "    print(\"-\"*100)\n",
    "\n",
    "    choice=int(input(\"輸入購買編號(0:exit):\")) \n",
    "    if choice==0:\n",
    "        break\n",
    "\n",
    "    # 選項<1 or >len(items) 輸入不正確\n",
    "    if choice<1 or choice>len(items):\n",
    "        print(\"輸入不正確\")\n",
    "        continue\n",
    "\n",
    "    # 紀錄購買商品\n",
    "    buy_item=items[choice-1]\n",
    "\n",
    "    # 數量小於1(無庫存)\n",
    "    if buy_item[3]<1:\n",
    "        print(f\"****{buy_item[1]} 目前無庫存\")\n",
    "        continue\n",
    "\n",
    "    #加入購物車\n",
    "    cart.append(buy_item)\n",
    "\n",
    "    # 更新商品數量\n",
    "\n",
    "    sqlstr=f\"update item set qty={buy_item[3]-1} where id={buy_item[0]};\"\n",
    "    print(sqlstr)\n",
    "    cursor.execute(sqlstr)\n",
    "    connect.commit()\n",
    "\n",
    "    print(f\"===>{buy_item[1]} 加入購物車\")\n",
    "\n",
    "print(\"完成購買\")      \n",
    "print(cart)  "
   ]
  },
  {
   "cell_type": "markdown",
   "metadata": {},
   "source": [
    "送出訂單\n",
    "- id\n",
    "- user id\n",
    "- item_id\n",
    "- created_time"
   ]
  },
  {
   "cell_type": "code",
   "execution_count": 32,
   "metadata": {},
   "outputs": [
    {
     "name": "stdout",
     "output_type": "stream",
     "text": [
      "送出訂單!\n",
      "送出訂單!\n",
      "送出訂單!\n",
      "送出訂單!\n"
     ]
    }
   ],
   "source": [
    "for item in cart:\n",
    "    #print(item)\n",
    "    sqlstr=f\"insert into `order` (user_id,item_id) values({user[0]},{item[0]});\"\n",
    "    #print(sqlstr)\n",
    "    cursor.execute(sqlstr)\n",
    "    connect.commit()\n",
    "    print(\"送出訂單!\")\n"
   ]
  },
  {
   "cell_type": "markdown",
   "metadata": {},
   "source": [
    "開始出貨"
   ]
  },
  {
   "cell_type": "code",
   "execution_count": 33,
   "metadata": {},
   "outputs": [
    {
     "data": {
      "text/plain": [
       "((5, 1, 1, datetime.datetime(2025, 3, 21, 15, 16, 53)),\n",
       " (6, 1, 3, datetime.datetime(2025, 3, 21, 15, 16, 53)),\n",
       " (7, 1, 3, datetime.datetime(2025, 3, 21, 15, 16, 53)),\n",
       " (8, 1, 4, datetime.datetime(2025, 3, 21, 15, 16, 53)),\n",
       " (9, 1, 1, datetime.datetime(2025, 3, 21, 15, 21, 47)),\n",
       " (10, 1, 3, datetime.datetime(2025, 3, 21, 15, 21, 47)),\n",
       " (11, 1, 3, datetime.datetime(2025, 3, 21, 15, 21, 47)),\n",
       " (12, 1, 4, datetime.datetime(2025, 3, 21, 15, 21, 47)))"
      ]
     },
     "execution_count": 33,
     "metadata": {},
     "output_type": "execute_result"
    }
   ],
   "source": [
    "#找出user\n",
    "\n",
    "sqlstr=\"select * from `order`; \"\n",
    "cursor.execute(sqlstr)\n",
    "orders=cursor.fetchall()\n",
    "orders"
   ]
  },
  {
   "cell_type": "code",
   "execution_count": 34,
   "metadata": {},
   "outputs": [
    {
     "data": {
      "text/plain": [
       "1"
      ]
     },
     "execution_count": 34,
     "metadata": {},
     "output_type": "execute_result"
    }
   ],
   "source": [
    "user_id=orders[0][1]\n",
    "user_id"
   ]
  },
  {
   "cell_type": "code",
   "execution_count": 35,
   "metadata": {},
   "outputs": [
    {
     "data": {
      "text/plain": [
       "(1,\n",
       " None,\n",
       " '12345678',\n",
       " 'conquerkwu@hotmail.com',\n",
       " '0933256199',\n",
       " '桃園市中壢區七合一街95之5號10樓',\n",
       " datetime.datetime(2025, 3, 19, 12, 59, 31))"
      ]
     },
     "execution_count": 35,
     "metadata": {},
     "output_type": "execute_result"
    }
   ],
   "source": [
    "sqlstr=f\"select * from user where id={user_id}\"\n",
    "cursor.execute(sqlstr)\n",
    "user=cursor.fetchone()\n",
    "user"
   ]
  },
  {
   "cell_type": "code",
   "execution_count": 36,
   "metadata": {},
   "outputs": [
    {
     "data": {
      "text/plain": [
       "((1,), (3,), (3,), (4,), (1,), (3,), (3,), (4,))"
      ]
     },
     "execution_count": 36,
     "metadata": {},
     "output_type": "execute_result"
    }
   ],
   "source": [
    "sqlstr=f\"select item_id from `order` where user_id={user_id}\"\n",
    "cursor.execute(sqlstr)\n",
    "buy_items=cursor.fetchall()\n",
    "buy_items\n"
   ]
  },
  {
   "cell_type": "code",
   "execution_count": null,
   "metadata": {},
   "outputs": [],
   "source": []
  }
 ],
 "metadata": {
  "kernelspec": {
   "display_name": "base",
   "language": "python",
   "name": "python3"
  },
  "language_info": {
   "codemirror_mode": {
    "name": "ipython",
    "version": 3
   },
   "file_extension": ".py",
   "mimetype": "text/x-python",
   "name": "python",
   "nbconvert_exporter": "python",
   "pygments_lexer": "ipython3",
   "version": "3.11.7"
  }
 },
 "nbformat": 4,
 "nbformat_minor": 2
}
