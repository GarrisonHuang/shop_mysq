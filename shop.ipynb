{
 "cells": [
  {
   "cell_type": "markdown",
   "metadata": {},
   "source": [
    "### 安裝mysql套件"
   ]
  },
  {
   "cell_type": "code",
   "execution_count": null,
   "metadata": {},
   "outputs": [
    {
     "name": "stdout",
     "output_type": "stream",
     "text": [
      "Requirement already satisfied: pymysql in c:\\users\\user\\anaconda3\\lib\\site-packages (1.1.1)\n",
      "Note: you may need to restart the kernel to use updated packages.\n"
     ]
    }
   ],
   "source": [
    "#pip install pymysql"
   ]
  },
  {
   "cell_type": "code",
   "execution_count": 4,
   "metadata": {},
   "outputs": [
    {
     "data": {
      "text/plain": [
       "'1.4.6'"
      ]
     },
     "execution_count": 4,
     "metadata": {},
     "output_type": "execute_result"
    }
   ],
   "source": [
    "import pymysql\n",
    "pymysql.__version__"
   ]
  },
  {
   "cell_type": "markdown",
   "metadata": {},
   "source": [
    "### 連接mysql"
   ]
  },
  {
   "cell_type": "code",
   "execution_count": 63,
   "metadata": {},
   "outputs": [
    {
     "data": {
      "text/plain": [
       "<pymysql.connections.Connection at 0x19f0ae05fd0>"
      ]
     },
     "execution_count": 63,
     "metadata": {},
     "output_type": "execute_result"
    }
   ],
   "source": [
    "connect=pymysql.connect(\n",
    "user=\"root\",\n",
    "password=\"LIsy758eKell$\",\n",
    "host=\"127.0.0.1\", #localhost\n",
    "database=\"shop\",\n",
    "port=3306\n",
    ")\n",
    "\n",
    "connect"
   ]
  },
  {
   "cell_type": "code",
   "execution_count": 64,
   "metadata": {},
   "outputs": [
    {
     "data": {
      "text/plain": [
       "<pymysql.cursors.Cursor at 0x19f0ae33f10>"
      ]
     },
     "execution_count": 64,
     "metadata": {},
     "output_type": "execute_result"
    }
   ],
   "source": [
    "cursor=connect.cursor()\n",
    "cursor"
   ]
  },
  {
   "cell_type": "markdown",
   "metadata": {},
   "source": [
    "### 查詢語法\n",
    "\n",
    "- select from tablename"
   ]
  },
  {
   "cell_type": "code",
   "execution_count": 56,
   "metadata": {},
   "outputs": [
    {
     "data": {
      "text/plain": [
       "(1, 'conquerkwu@hotmail.com', '0933256199', '桃園市中壢區七合一街95之5號10樓')"
      ]
     },
     "execution_count": 56,
     "metadata": {},
     "output_type": "execute_result"
    }
   ],
   "source": [
    "sqlstr=\"select id, email,phone,address from user;\"\n",
    "cursor.execute(sqlstr)\n",
    "#users=cursor.fetchmany(3)\n",
    "users=cursor.fetchone()\n",
    "users"
   ]
  },
  {
   "cell_type": "markdown",
   "metadata": {},
   "source": [
    "### 插入語法"
   ]
  },
  {
   "cell_type": "code",
   "execution_count": 42,
   "metadata": {},
   "outputs": [
    {
     "data": {
      "text/plain": [
       "\"insert into user (username,email,password,phone,address)      values('','','','','');\""
      ]
     },
     "execution_count": 42,
     "metadata": {},
     "output_type": "execute_result"
    }
   ],
   "source": [
    "username=input(\"姓名:\")\n",
    "email=input(\"Email:\")\n",
    "password=input(\"密碼:\")\n",
    "phone=input(\"手機號碼:\")\n",
    "address=input(\"地址:\")\n",
    "\n",
    "sqlstr=f\"insert into user (username,email,password,phone,address)\\\n",
    "      values('{username}','{email}','{password}','{phone}','{address}');\"\n",
    "\n",
    "sqlstr"
   ]
  },
  {
   "cell_type": "code",
   "execution_count": 45,
   "metadata": {},
   "outputs": [
    {
     "name": "stdout",
     "output_type": "stream",
     "text": [
      "寫入失敗 (1064, \"You have an error in your SQL syntax; check the manual that corresponds to your MariaDB server version for the right syntax to use near '[0]}' at line 1\")\n"
     ]
    }
   ],
   "source": [
    "try:\n",
    "    cursor.execute(sqlstr)\n",
    "    connect.commit()\n",
    "except Exception as e:\n",
    "    print(\"寫入失敗\",e)    "
   ]
  },
  {
   "cell_type": "markdown",
   "metadata": {},
   "source": [
    "進入登入"
   ]
  },
  {
   "cell_type": "code",
   "execution_count": 52,
   "metadata": {},
   "outputs": [
    {
     "data": {
      "text/plain": [
       "\"select * from user where email='' and password=''\""
      ]
     },
     "execution_count": 52,
     "metadata": {},
     "output_type": "execute_result"
    }
   ],
   "source": [
    "email=input(\"Email:\")\n",
    "password=input(\"密碼:\")\n",
    "\n",
    "sqlstr=f\"select * from user where email='{email}' and password='{password}'\"\n",
    "sqlstr\n"
   ]
  },
  {
   "cell_type": "code",
   "execution_count": 65,
   "metadata": {},
   "outputs": [
    {
     "data": {
      "text/plain": [
       "('Samsung A55手機', 12900.0)"
      ]
     },
     "execution_count": 65,
     "metadata": {},
     "output_type": "execute_result"
    }
   ],
   "source": [
    "cursor.execute(sqlstr)\n",
    "user=cursor.fetchone()\n",
    "user"
   ]
  },
  {
   "cell_type": "code",
   "execution_count": 47,
   "metadata": {},
   "outputs": [
    {
     "name": "stdout",
     "output_type": "stream",
     "text": [
      "登入成功!\n"
     ]
    }
   ],
   "source": [
    "if user is not None:\n",
    "    print(\"登入成功!\")\n",
    "else:\n",
    "    print(\"登入失敗!\")"
   ]
  },
  {
   "cell_type": "markdown",
   "metadata": {},
   "source": [
    "建立商品資料表(item)\n",
    "- id     - int(AI)\n",
    "- name   - varchar(100) - unique\n",
    "- price  - float        \n",
    "- qty    - int          - default:1\n",
    "- info   - text         - 可以為空"
   ]
  },
  {
   "cell_type": "code",
   "execution_count": 21,
   "metadata": {},
   "outputs": [
    {
     "data": {
      "text/plain": [
       "((1,\n",
       "  'macbook air 2023 pro',\n",
       "  35000.0,\n",
       "  2,\n",
       "  '256ssd 16g\\r\\n\\r\\n',\n",
       "  datetime.date(2025, 3, 20)),\n",
       " (2,\n",
       "  'asus zenbook 14\" notebook',\n",
       "  24900.0,\n",
       "  0,\n",
       "  '華碩筆電',\n",
       "  datetime.date(2025, 3, 20)),\n",
       " (3, 'asus po-行動電源', 699.0, 8, '25W', datetime.date(2025, 3, 20)),\n",
       " (4, 'Samsung A55手機', 12900.0, 3, '紅色限量', datetime.date(2025, 3, 20)),\n",
       " (5, 'iphone 16pro手機', 36000.0, 3, '白色限量', datetime.date(2025, 3, 20)))"
      ]
     },
     "execution_count": 21,
     "metadata": {},
     "output_type": "execute_result"
    }
   ],
   "source": [
    "# 只需要重新登入上面程式 但不要用客戶資料 因為這個要產品資料\n",
    "def update_item():\n",
    "\n",
    "    sqlstr=\"select * from item;\"\n",
    "    cursor.execute(sqlstr)\n",
    "    items=cursor.fetchall()\n",
    "    return items\n",
    "   \n",
    "update_item()"
   ]
  },
  {
   "cell_type": "code",
   "execution_count": 62,
   "metadata": {},
   "outputs": [],
   "source": [
    "#connect 關閉客戶 才可以跑產品資料\n",
    "connect.close()"
   ]
  },
  {
   "cell_type": "code",
   "execution_count": 77,
   "metadata": {},
   "outputs": [
    {
     "name": "stdout",
     "output_type": "stream",
     "text": [
      "----------------------------------------------------------------------------------------------------\n",
      "1.商品名稱:macbook air 2023 pro 價格:35000.0 數量:0 備註:256ssd 16g\n",
      "\n",
      "\n",
      "2.商品名稱:asus zenbook 14\" notebook 價格:24900.0 數量:0 備註:華碩筆電\n",
      "3.商品名稱:asus po-行動電源 價格:699.0 數量:4 備註:25W\n",
      "4.商品名稱:Samsung A55手機 價格:12900.0 數量:0 備註:紅色限量\n",
      "5.商品名稱:iphone 16pro手機 價格:36000.0 數量:3 備註:白色限量\n",
      "----------------------------------------------------------------------------------------------------\n",
      "****macbook air 2023 pro 目前無庫存\n",
      "----------------------------------------------------------------------------------------------------\n",
      "1.商品名稱:macbook air 2023 pro 價格:35000.0 數量:0 備註:256ssd 16g\n",
      "\n",
      "\n",
      "2.商品名稱:asus zenbook 14\" notebook 價格:24900.0 數量:0 備註:華碩筆電\n",
      "3.商品名稱:asus po-行動電源 價格:699.0 數量:4 備註:25W\n",
      "4.商品名稱:Samsung A55手機 價格:12900.0 數量:0 備註:紅色限量\n",
      "5.商品名稱:iphone 16pro手機 價格:36000.0 數量:3 備註:白色限量\n",
      "----------------------------------------------------------------------------------------------------\n",
      "****asus zenbook 14\" notebook 目前無庫存\n",
      "----------------------------------------------------------------------------------------------------\n",
      "1.商品名稱:macbook air 2023 pro 價格:35000.0 數量:0 備註:256ssd 16g\n",
      "\n",
      "\n",
      "2.商品名稱:asus zenbook 14\" notebook 價格:24900.0 數量:0 備註:華碩筆電\n",
      "3.商品名稱:asus po-行動電源 價格:699.0 數量:4 備註:25W\n",
      "4.商品名稱:Samsung A55手機 價格:12900.0 數量:0 備註:紅色限量\n",
      "5.商品名稱:iphone 16pro手機 價格:36000.0 數量:3 備註:白色限量\n",
      "----------------------------------------------------------------------------------------------------\n",
      "update item set qty=3 where id=3;\n",
      "===>asus po-行動電源 加入購物車\n",
      "----------------------------------------------------------------------------------------------------\n",
      "1.商品名稱:macbook air 2023 pro 價格:35000.0 數量:0 備註:256ssd 16g\n",
      "\n",
      "\n",
      "2.商品名稱:asus zenbook 14\" notebook 價格:24900.0 數量:0 備註:華碩筆電\n",
      "3.商品名稱:asus po-行動電源 價格:699.0 數量:3 備註:25W\n",
      "4.商品名稱:Samsung A55手機 價格:12900.0 數量:0 備註:紅色限量\n",
      "5.商品名稱:iphone 16pro手機 價格:36000.0 數量:3 備註:白色限量\n",
      "----------------------------------------------------------------------------------------------------\n",
      "****Samsung A55手機 目前無庫存\n",
      "----------------------------------------------------------------------------------------------------\n",
      "1.商品名稱:macbook air 2023 pro 價格:35000.0 數量:0 備註:256ssd 16g\n",
      "\n",
      "\n",
      "2.商品名稱:asus zenbook 14\" notebook 價格:24900.0 數量:0 備註:華碩筆電\n",
      "3.商品名稱:asus po-行動電源 價格:699.0 數量:3 備註:25W\n",
      "4.商品名稱:Samsung A55手機 價格:12900.0 數量:0 備註:紅色限量\n",
      "5.商品名稱:iphone 16pro手機 價格:36000.0 數量:3 備註:白色限量\n",
      "----------------------------------------------------------------------------------------------------\n",
      "完成購買\n",
      "[(3, 'asus po-行動電源', 699.0, 4, '25W', datetime.date(2025, 3, 20))]\n"
     ]
    }
   ],
   "source": [
    "cart=[]\n",
    "\n",
    "while True:\n",
    "    # 同步更新最新產品\n",
    "    items=update_item()\n",
    "    # 選單\n",
    "    print(\"-\"*100)\n",
    "    for i,item in enumerate(items):\n",
    "        print(f\"{i+1}.商品名稱:{item[1]} 價格:{item[2]} 數量:{item[3]} 備註:{item[4]}\")\n",
    "    print(\"-\"*100)\n",
    "\n",
    "    choice=int(input(\"輸入購買編號(0:exit):\")) \n",
    "    if choice==0:\n",
    "        break\n",
    "\n",
    "    # 選項<1 or >len(items) 輸入不正確\n",
    "    if choice<1 or choice>len(items):\n",
    "        print(\"輸入不正確\")\n",
    "        continue\n",
    "\n",
    "    # 紀錄購買商品\n",
    "    buy_item=items[choice-1]\n",
    "\n",
    "    # 數量小於1(無庫存)\n",
    "    if buy_item[3]<1:\n",
    "        print(f\"****{buy_item[1]} 目前無庫存\")\n",
    "        continue\n",
    "\n",
    "    #加入購物車\n",
    "    cart.append(buy_item)\n",
    "\n",
    "    # 更新商品數量\n",
    "\n",
    "    sqlstr=f\"update item set qty={buy_item[3]-1} where id={buy_item[0]};\"\n",
    "    print(sqlstr)\n",
    "    cursor.execute(sqlstr)\n",
    "    connect.commit()\n",
    "\n",
    "    print(f\"===>{buy_item[1]} 加入購物車\")\n",
    "\n",
    "print(\"完成購買\")      \n",
    "print(cart)  "
   ]
  },
  {
   "cell_type": "markdown",
   "metadata": {},
   "source": [
    "送出訂單\n",
    "- id\n",
    "- user id\n",
    "- item_id\n",
    "- created_time"
   ]
  },
  {
   "cell_type": "code",
   "execution_count": 78,
   "metadata": {},
   "outputs": [
    {
     "ename": "ProgrammingError",
     "evalue": "(1064, \"You have an error in your SQL syntax; check the manual that corresponds to your MariaDB server version for the right syntax to use near 'A55手機,3)' at line 1\")",
     "output_type": "error",
     "traceback": [
      "\u001b[1;31m---------------------------------------------------------------------------\u001b[0m",
      "\u001b[1;31mProgrammingError\u001b[0m                          Traceback (most recent call last)",
      "Cell \u001b[1;32mIn[78], line 5\u001b[0m\n\u001b[0;32m      3\u001b[0m sqlstr\u001b[38;5;241m=\u001b[39m\u001b[38;5;124mf\u001b[39m\u001b[38;5;124m\"\u001b[39m\u001b[38;5;124minsert into `order` (user_id,item_id) values(\u001b[39m\u001b[38;5;132;01m{\u001b[39;00muser[\u001b[38;5;241m0\u001b[39m]\u001b[38;5;132;01m}\u001b[39;00m\u001b[38;5;124m,\u001b[39m\u001b[38;5;132;01m{\u001b[39;00mitem[\u001b[38;5;241m0\u001b[39m]\u001b[38;5;132;01m}\u001b[39;00m\u001b[38;5;124m);\u001b[39m\u001b[38;5;124m\"\u001b[39m\n\u001b[0;32m      4\u001b[0m \u001b[38;5;66;03m#print(sqlstr)\u001b[39;00m\n\u001b[1;32m----> 5\u001b[0m cursor\u001b[38;5;241m.\u001b[39mexecute(sqlstr)\n\u001b[0;32m      6\u001b[0m connect\u001b[38;5;241m.\u001b[39mcommit()\n\u001b[0;32m      7\u001b[0m \u001b[38;5;28mprint\u001b[39m(\u001b[38;5;124m\"\u001b[39m\u001b[38;5;124m送出訂單!\u001b[39m\u001b[38;5;124m\"\u001b[39m)\n",
      "File \u001b[1;32mc:\\Users\\User\\anaconda3\\Lib\\site-packages\\pymysql\\cursors.py:153\u001b[0m, in \u001b[0;36mCursor.execute\u001b[1;34m(self, query, args)\u001b[0m\n\u001b[0;32m    149\u001b[0m     \u001b[38;5;28;01mpass\u001b[39;00m\n\u001b[0;32m    151\u001b[0m query \u001b[38;5;241m=\u001b[39m \u001b[38;5;28mself\u001b[39m\u001b[38;5;241m.\u001b[39mmogrify(query, args)\n\u001b[1;32m--> 153\u001b[0m result \u001b[38;5;241m=\u001b[39m \u001b[38;5;28mself\u001b[39m\u001b[38;5;241m.\u001b[39m_query(query)\n\u001b[0;32m    154\u001b[0m \u001b[38;5;28mself\u001b[39m\u001b[38;5;241m.\u001b[39m_executed \u001b[38;5;241m=\u001b[39m query\n\u001b[0;32m    155\u001b[0m \u001b[38;5;28;01mreturn\u001b[39;00m result\n",
      "File \u001b[1;32mc:\\Users\\User\\anaconda3\\Lib\\site-packages\\pymysql\\cursors.py:322\u001b[0m, in \u001b[0;36mCursor._query\u001b[1;34m(self, q)\u001b[0m\n\u001b[0;32m    320\u001b[0m conn \u001b[38;5;241m=\u001b[39m \u001b[38;5;28mself\u001b[39m\u001b[38;5;241m.\u001b[39m_get_db()\n\u001b[0;32m    321\u001b[0m \u001b[38;5;28mself\u001b[39m\u001b[38;5;241m.\u001b[39m_clear_result()\n\u001b[1;32m--> 322\u001b[0m conn\u001b[38;5;241m.\u001b[39mquery(q)\n\u001b[0;32m    323\u001b[0m \u001b[38;5;28mself\u001b[39m\u001b[38;5;241m.\u001b[39m_do_get_result()\n\u001b[0;32m    324\u001b[0m \u001b[38;5;28;01mreturn\u001b[39;00m \u001b[38;5;28mself\u001b[39m\u001b[38;5;241m.\u001b[39mrowcount\n",
      "File \u001b[1;32mc:\\Users\\User\\anaconda3\\Lib\\site-packages\\pymysql\\connections.py:563\u001b[0m, in \u001b[0;36mConnection.query\u001b[1;34m(self, sql, unbuffered)\u001b[0m\n\u001b[0;32m    561\u001b[0m     sql \u001b[38;5;241m=\u001b[39m sql\u001b[38;5;241m.\u001b[39mencode(\u001b[38;5;28mself\u001b[39m\u001b[38;5;241m.\u001b[39mencoding, \u001b[38;5;124m\"\u001b[39m\u001b[38;5;124msurrogateescape\u001b[39m\u001b[38;5;124m\"\u001b[39m)\n\u001b[0;32m    562\u001b[0m \u001b[38;5;28mself\u001b[39m\u001b[38;5;241m.\u001b[39m_execute_command(COMMAND\u001b[38;5;241m.\u001b[39mCOM_QUERY, sql)\n\u001b[1;32m--> 563\u001b[0m \u001b[38;5;28mself\u001b[39m\u001b[38;5;241m.\u001b[39m_affected_rows \u001b[38;5;241m=\u001b[39m \u001b[38;5;28mself\u001b[39m\u001b[38;5;241m.\u001b[39m_read_query_result(unbuffered\u001b[38;5;241m=\u001b[39munbuffered)\n\u001b[0;32m    564\u001b[0m \u001b[38;5;28;01mreturn\u001b[39;00m \u001b[38;5;28mself\u001b[39m\u001b[38;5;241m.\u001b[39m_affected_rows\n",
      "File \u001b[1;32mc:\\Users\\User\\anaconda3\\Lib\\site-packages\\pymysql\\connections.py:825\u001b[0m, in \u001b[0;36mConnection._read_query_result\u001b[1;34m(self, unbuffered)\u001b[0m\n\u001b[0;32m    823\u001b[0m \u001b[38;5;28;01melse\u001b[39;00m:\n\u001b[0;32m    824\u001b[0m     result \u001b[38;5;241m=\u001b[39m MySQLResult(\u001b[38;5;28mself\u001b[39m)\n\u001b[1;32m--> 825\u001b[0m     result\u001b[38;5;241m.\u001b[39mread()\n\u001b[0;32m    826\u001b[0m \u001b[38;5;28mself\u001b[39m\u001b[38;5;241m.\u001b[39m_result \u001b[38;5;241m=\u001b[39m result\n\u001b[0;32m    827\u001b[0m \u001b[38;5;28;01mif\u001b[39;00m result\u001b[38;5;241m.\u001b[39mserver_status \u001b[38;5;129;01mis\u001b[39;00m \u001b[38;5;129;01mnot\u001b[39;00m \u001b[38;5;28;01mNone\u001b[39;00m:\n",
      "File \u001b[1;32mc:\\Users\\User\\anaconda3\\Lib\\site-packages\\pymysql\\connections.py:1199\u001b[0m, in \u001b[0;36mMySQLResult.read\u001b[1;34m(self)\u001b[0m\n\u001b[0;32m   1197\u001b[0m \u001b[38;5;28;01mdef\u001b[39;00m \u001b[38;5;21mread\u001b[39m(\u001b[38;5;28mself\u001b[39m):\n\u001b[0;32m   1198\u001b[0m     \u001b[38;5;28;01mtry\u001b[39;00m:\n\u001b[1;32m-> 1199\u001b[0m         first_packet \u001b[38;5;241m=\u001b[39m \u001b[38;5;28mself\u001b[39m\u001b[38;5;241m.\u001b[39mconnection\u001b[38;5;241m.\u001b[39m_read_packet()\n\u001b[0;32m   1201\u001b[0m         \u001b[38;5;28;01mif\u001b[39;00m first_packet\u001b[38;5;241m.\u001b[39mis_ok_packet():\n\u001b[0;32m   1202\u001b[0m             \u001b[38;5;28mself\u001b[39m\u001b[38;5;241m.\u001b[39m_read_ok_packet(first_packet)\n",
      "File \u001b[1;32mc:\\Users\\User\\anaconda3\\Lib\\site-packages\\pymysql\\connections.py:775\u001b[0m, in \u001b[0;36mConnection._read_packet\u001b[1;34m(self, packet_type)\u001b[0m\n\u001b[0;32m    773\u001b[0m     \u001b[38;5;28;01mif\u001b[39;00m \u001b[38;5;28mself\u001b[39m\u001b[38;5;241m.\u001b[39m_result \u001b[38;5;129;01mis\u001b[39;00m \u001b[38;5;129;01mnot\u001b[39;00m \u001b[38;5;28;01mNone\u001b[39;00m \u001b[38;5;129;01mand\u001b[39;00m \u001b[38;5;28mself\u001b[39m\u001b[38;5;241m.\u001b[39m_result\u001b[38;5;241m.\u001b[39munbuffered_active \u001b[38;5;129;01mis\u001b[39;00m \u001b[38;5;28;01mTrue\u001b[39;00m:\n\u001b[0;32m    774\u001b[0m         \u001b[38;5;28mself\u001b[39m\u001b[38;5;241m.\u001b[39m_result\u001b[38;5;241m.\u001b[39munbuffered_active \u001b[38;5;241m=\u001b[39m \u001b[38;5;28;01mFalse\u001b[39;00m\n\u001b[1;32m--> 775\u001b[0m     packet\u001b[38;5;241m.\u001b[39mraise_for_error()\n\u001b[0;32m    776\u001b[0m \u001b[38;5;28;01mreturn\u001b[39;00m packet\n",
      "File \u001b[1;32mc:\\Users\\User\\anaconda3\\Lib\\site-packages\\pymysql\\protocol.py:219\u001b[0m, in \u001b[0;36mMysqlPacket.raise_for_error\u001b[1;34m(self)\u001b[0m\n\u001b[0;32m    217\u001b[0m \u001b[38;5;28;01mif\u001b[39;00m DEBUG:\n\u001b[0;32m    218\u001b[0m     \u001b[38;5;28mprint\u001b[39m(\u001b[38;5;124m\"\u001b[39m\u001b[38;5;124merrno =\u001b[39m\u001b[38;5;124m\"\u001b[39m, errno)\n\u001b[1;32m--> 219\u001b[0m err\u001b[38;5;241m.\u001b[39mraise_mysql_exception(\u001b[38;5;28mself\u001b[39m\u001b[38;5;241m.\u001b[39m_data)\n",
      "File \u001b[1;32mc:\\Users\\User\\anaconda3\\Lib\\site-packages\\pymysql\\err.py:150\u001b[0m, in \u001b[0;36mraise_mysql_exception\u001b[1;34m(data)\u001b[0m\n\u001b[0;32m    148\u001b[0m \u001b[38;5;28;01mif\u001b[39;00m errorclass \u001b[38;5;129;01mis\u001b[39;00m \u001b[38;5;28;01mNone\u001b[39;00m:\n\u001b[0;32m    149\u001b[0m     errorclass \u001b[38;5;241m=\u001b[39m InternalError \u001b[38;5;28;01mif\u001b[39;00m errno \u001b[38;5;241m<\u001b[39m \u001b[38;5;241m1000\u001b[39m \u001b[38;5;28;01melse\u001b[39;00m OperationalError\n\u001b[1;32m--> 150\u001b[0m \u001b[38;5;28;01mraise\u001b[39;00m errorclass(errno, errval)\n",
      "\u001b[1;31mProgrammingError\u001b[0m: (1064, \"You have an error in your SQL syntax; check the manual that corresponds to your MariaDB server version for the right syntax to use near 'A55手機,3)' at line 1\")"
     ]
    }
   ],
   "source": [
    "for item in cart:\n",
    "    #print(item)\n",
    "    sqlstr=f\"insert into `order` (user_id,item_id) values({user[0]},{item[0]});\"\n",
    "    #print(sqlstr)\n",
    "    cursor.execute(sqlstr)\n",
    "    connect.commit()\n",
    "    print(\"送出訂單!\")\n"
   ]
  },
  {
   "cell_type": "markdown",
   "metadata": {},
   "source": [
    "開始出貨"
   ]
  },
  {
   "cell_type": "code",
   "execution_count": 79,
   "metadata": {},
   "outputs": [
    {
     "data": {
      "text/plain": [
       "((5, 1, 1, datetime.datetime(2025, 3, 21, 15, 16, 53), 0),\n",
       " (6, 1, 3, datetime.datetime(2025, 3, 21, 15, 16, 53), 0),\n",
       " (7, 1, 3, datetime.datetime(2025, 3, 21, 15, 16, 53), 0),\n",
       " (8, 1, 4, datetime.datetime(2025, 3, 21, 15, 16, 53), 0),\n",
       " (9, 1, 1, datetime.datetime(2025, 3, 21, 15, 21, 47), 0),\n",
       " (10, 1, 3, datetime.datetime(2025, 3, 21, 15, 21, 47), 0),\n",
       " (11, 1, 3, datetime.datetime(2025, 3, 21, 15, 21, 47), 0),\n",
       " (12, 1, 4, datetime.datetime(2025, 3, 21, 15, 21, 47), 0),\n",
       " (13, 1, 1, datetime.datetime(2025, 3, 23, 16, 6, 58), 0),\n",
       " (14, 1, 3, datetime.datetime(2025, 3, 23, 16, 6, 58), 0),\n",
       " (15, 1, 4, datetime.datetime(2025, 3, 23, 16, 6, 58), 0))"
      ]
     },
     "execution_count": 79,
     "metadata": {},
     "output_type": "execute_result"
    }
   ],
   "source": [
    "#找出user\n",
    "\n",
    "sqlstr=\"select * from `order`; \"\n",
    "cursor.execute(sqlstr)\n",
    "orders=cursor.fetchall()\n",
    "orders"
   ]
  },
  {
   "cell_type": "code",
   "execution_count": 80,
   "metadata": {},
   "outputs": [
    {
     "data": {
      "text/plain": [
       "1"
      ]
     },
     "execution_count": 80,
     "metadata": {},
     "output_type": "execute_result"
    }
   ],
   "source": [
    "user_id=orders[0][1]\n",
    "user_id"
   ]
  },
  {
   "cell_type": "code",
   "execution_count": 81,
   "metadata": {},
   "outputs": [
    {
     "data": {
      "text/plain": [
       "(1,\n",
       " None,\n",
       " '12345678',\n",
       " 'conquerkwu@hotmail.com',\n",
       " '0933256199',\n",
       " '桃園市中壢區七合一街95之5號10樓',\n",
       " datetime.datetime(2025, 3, 19, 12, 59, 31))"
      ]
     },
     "execution_count": 81,
     "metadata": {},
     "output_type": "execute_result"
    }
   ],
   "source": [
    "sqlstr=f\"select * from user where id={user_id}\"\n",
    "cursor.execute(sqlstr)\n",
    "user=cursor.fetchone()\n",
    "user"
   ]
  },
  {
   "cell_type": "code",
   "execution_count": 82,
   "metadata": {},
   "outputs": [
    {
     "data": {
      "text/plain": [
       "((5, 1),\n",
       " (6, 3),\n",
       " (7, 3),\n",
       " (8, 4),\n",
       " (9, 1),\n",
       " (10, 3),\n",
       " (11, 3),\n",
       " (12, 4),\n",
       " (13, 1),\n",
       " (14, 3),\n",
       " (15, 4))"
      ]
     },
     "execution_count": 82,
     "metadata": {},
     "output_type": "execute_result"
    }
   ],
   "source": [
    "sqlstr=f\"select id, item_id from `order` where user_id={user_id}\"\n",
    "cursor.execute(sqlstr)\n",
    "buy_items=cursor.fetchall()\n",
    "buy_items\n"
   ]
  },
  {
   "cell_type": "code",
   "execution_count": 84,
   "metadata": {},
   "outputs": [
    {
     "name": "stdout",
     "output_type": "stream",
     "text": [
      "收貨人:None\n",
      "email:conquerkwu@hotmail.com\n",
      "phone:0933256199\n",
      "address:桃園市中壢區七合一街95之5號10樓\n",
      "==========\n",
      "1.macbook air 2023 pro price:35000.0\n",
      "2.asus po-行動電源 price:699.0\n",
      "3.asus po-行動電源 price:699.0\n",
      "4.Samsung A55手機 price:12900.0\n",
      "5.macbook air 2023 pro price:35000.0\n",
      "6.asus po-行動電源 price:699.0\n",
      "7.asus po-行動電源 price:699.0\n",
      "8.Samsung A55手機 price:12900.0\n",
      "9.macbook air 2023 pro price:35000.0\n",
      "10.asus po-行動電源 price:699.0\n",
      "11.Samsung A55手機 price:12900.0\n",
      "===========\n",
      "總計為:147195.0\n"
     ]
    }
   ],
   "source": [
    "\"\"\"\n",
    "收貨人:\n",
    "email:\n",
    "phone:\n",
    "address:\n",
    "================\n",
    "1. asus.... 24770\n",
    "2. dddd.... 12333\n",
    "\n",
    "總計:\n",
    "================\n",
    "\"\"\"\n",
    "print(f\"收貨人:{user[1]}\")\n",
    "print(f\"email:{user[3]}\")\n",
    "print(f\"phone:{user[4]}\")\n",
    "print(f\"address:{user[5]}\")\n",
    "\n",
    "print(\"==========\")\n",
    "total=0\n",
    "\n",
    "for i,item_id in enumerate(buy_items):\n",
    "    #print(item_id[0])\n",
    "    sqlstr=f\"select name,price from item where id={item_id[1]};\"\n",
    "    cursor.execute(sqlstr)\n",
    "\n",
    "    item=cursor.fetchone()\n",
    "    print(f\"{i+1}.{item[0]} price:{item[1]}\")\n",
    "    total+=item[1]\n",
    "print(\"===========\")\n",
    "print(f\"總計為:{total}\")"
   ]
  },
  {
   "cell_type": "markdown",
   "metadata": {},
   "source": [
    "將已出貨的訂單 增加欄位shipped(Bool => true/false)\n",
    "-出貨=>true\n"
   ]
  },
  {
   "cell_type": "code",
   "execution_count": 88,
   "metadata": {},
   "outputs": [
    {
     "name": "stdout",
     "output_type": "stream",
     "text": [
      "5\n",
      "6\n",
      "7\n",
      "8\n",
      "9\n",
      "10\n",
      "11\n",
      "12\n",
      "13\n",
      "14\n",
      "15\n"
     ]
    }
   ],
   "source": [
    "for order_id in buy_items:\n",
    "    print(order_id[0])\n",
    "    sqlstr=f\"update `order` set shipped=1 where id ={order_id[0]};\"\n",
    "    cursor.execute(sqlstr)\n",
    "    connect.commit()"
   ]
  },
  {
   "cell_type": "code",
   "execution_count": 89,
   "metadata": {},
   "outputs": [
    {
     "data": {
      "text/plain": [
       "<bound method Connection.close of <pymysql.connections.Connection object at 0x0000019F0AE05FD0>>"
      ]
     },
     "execution_count": 89,
     "metadata": {},
     "output_type": "execute_result"
    }
   ],
   "source": [
    "connect.close"
   ]
  },
  {
   "cell_type": "code",
   "execution_count": null,
   "metadata": {},
   "outputs": [],
   "source": []
  },
  {
   "cell_type": "code",
   "execution_count": null,
   "metadata": {},
   "outputs": [],
   "source": []
  }
 ],
 "metadata": {
  "kernelspec": {
   "display_name": "base",
   "language": "python",
   "name": "python3"
  },
  "language_info": {
   "codemirror_mode": {
    "name": "ipython",
    "version": 3
   },
   "file_extension": ".py",
   "mimetype": "text/x-python",
   "name": "python",
   "nbconvert_exporter": "python",
   "pygments_lexer": "ipython3",
   "version": "3.11.7"
  }
 },
 "nbformat": 4,
 "nbformat_minor": 2
}
